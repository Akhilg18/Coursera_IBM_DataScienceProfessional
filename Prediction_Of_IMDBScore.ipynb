{
    "cells": [
        {
            "metadata": {},
            "cell_type": "code",
            "source": "# Importing all the libraries used below\nimport itertools\nimport numpy as np\nimport matplotlib.pyplot as plt\nfrom matplotlib.ticker import NullFormatter\nimport pandas as pd\nimport numpy as np\nimport matplotlib.ticker as ticker\nfrom sklearn import preprocessing\n%matplotlib inline",
            "execution_count": 94,
            "outputs": []
        },
        {
            "metadata": {},
            "cell_type": "code",
            "source": "# reading the data file \"movie_metadata.csv\" stored as a object in IBM watson studio and displaying top 5 rows\nimport types\nimport pandas as pd\nfrom botocore.client import Config\nimport ibm_boto3\n\ndef __iter__(self): return 0\n\n# @hidden_cell\n# The following code accesses a file in your IBM Cloud Object Storage. It includes your credentials.\n# You might want to remove those credentials before you share the notebook.\nclient_232cba46ba0b4901b912f6f6602b2460 = ibm_boto3.client(service_name='s3',\n    ibm_api_key_id='HSzrtaRvR7JZipi7do5dKpzRjsOnA5JpXLKsWICJdQpU',\n    ibm_auth_endpoint=\"https://iam.ng.bluemix.net/oidc/token\",\n    config=Config(signature_version='oauth'),\n    endpoint_url='https://s3-api.us-geo.objectstorage.service.networklayer.com')\n\nbody = client_232cba46ba0b4901b912f6f6602b2460.get_object(Bucket='predictionofimdbscore-donotdelete-pr-d9i2wult68ih1k',Key='movie_metadata.csv')['Body']\n# add missing __iter__ method, so pandas accepts body as file-like object\nif not hasattr(body, \"__iter__\"): body.__iter__ = types.MethodType( __iter__, body )\n\ndf_data_1 = pd.read_csv(body)\ndf_data_1.head()\n",
            "execution_count": 95,
            "outputs": [
                {
                    "output_type": "execute_result",
                    "execution_count": 95,
                    "data": {
                        "text/plain": "   color      director_name  num_critic_for_reviews  duration  \\\n0  Color      James Cameron                   723.0     178.0   \n1  Color     Gore Verbinski                   302.0     169.0   \n2  Color         Sam Mendes                   602.0     148.0   \n3  Color  Christopher Nolan                   813.0     164.0   \n4    NaN        Doug Walker                     NaN       NaN   \n\n   director_facebook_likes  actor_3_facebook_likes      actor_2_name  \\\n0                      0.0                   855.0  Joel David Moore   \n1                    563.0                  1000.0     Orlando Bloom   \n2                      0.0                   161.0      Rory Kinnear   \n3                  22000.0                 23000.0    Christian Bale   \n4                    131.0                     NaN        Rob Walker   \n\n   actor_1_facebook_likes        gross                           genres  ...  \\\n0                  1000.0  760505847.0  Action|Adventure|Fantasy|Sci-Fi  ...   \n1                 40000.0  309404152.0         Action|Adventure|Fantasy  ...   \n2                 11000.0  200074175.0        Action|Adventure|Thriller  ...   \n3                 27000.0  448130642.0                  Action|Thriller  ...   \n4                   131.0          NaN                      Documentary  ...   \n\n  num_user_for_reviews language  country  content_rating       budget  \\\n0               3054.0  English      USA           PG-13  237000000.0   \n1               1238.0  English      USA           PG-13  300000000.0   \n2                994.0  English       UK           PG-13  245000000.0   \n3               2701.0  English      USA           PG-13  250000000.0   \n4                  NaN      NaN      NaN             NaN          NaN   \n\n   title_year actor_2_facebook_likes imdb_score  aspect_ratio  \\\n0      2009.0                  936.0        7.9          1.78   \n1      2007.0                 5000.0        7.1          2.35   \n2      2015.0                  393.0        6.8          2.35   \n3      2012.0                23000.0        8.5          2.35   \n4         NaN                   12.0        7.1           NaN   \n\n  movie_facebook_likes  \n0                33000  \n1                    0  \n2                85000  \n3               164000  \n4                    0  \n\n[5 rows x 28 columns]",
                        "text/html": "<div>\n<style scoped>\n    .dataframe tbody tr th:only-of-type {\n        vertical-align: middle;\n    }\n\n    .dataframe tbody tr th {\n        vertical-align: top;\n    }\n\n    .dataframe thead th {\n        text-align: right;\n    }\n</style>\n<table border=\"1\" class=\"dataframe\">\n  <thead>\n    <tr style=\"text-align: right;\">\n      <th></th>\n      <th>color</th>\n      <th>director_name</th>\n      <th>num_critic_for_reviews</th>\n      <th>duration</th>\n      <th>director_facebook_likes</th>\n      <th>actor_3_facebook_likes</th>\n      <th>actor_2_name</th>\n      <th>actor_1_facebook_likes</th>\n      <th>gross</th>\n      <th>genres</th>\n      <th>...</th>\n      <th>num_user_for_reviews</th>\n      <th>language</th>\n      <th>country</th>\n      <th>content_rating</th>\n      <th>budget</th>\n      <th>title_year</th>\n      <th>actor_2_facebook_likes</th>\n      <th>imdb_score</th>\n      <th>aspect_ratio</th>\n      <th>movie_facebook_likes</th>\n    </tr>\n  </thead>\n  <tbody>\n    <tr>\n      <th>0</th>\n      <td>Color</td>\n      <td>James Cameron</td>\n      <td>723.0</td>\n      <td>178.0</td>\n      <td>0.0</td>\n      <td>855.0</td>\n      <td>Joel David Moore</td>\n      <td>1000.0</td>\n      <td>760505847.0</td>\n      <td>Action|Adventure|Fantasy|Sci-Fi</td>\n      <td>...</td>\n      <td>3054.0</td>\n      <td>English</td>\n      <td>USA</td>\n      <td>PG-13</td>\n      <td>237000000.0</td>\n      <td>2009.0</td>\n      <td>936.0</td>\n      <td>7.9</td>\n      <td>1.78</td>\n      <td>33000</td>\n    </tr>\n    <tr>\n      <th>1</th>\n      <td>Color</td>\n      <td>Gore Verbinski</td>\n      <td>302.0</td>\n      <td>169.0</td>\n      <td>563.0</td>\n      <td>1000.0</td>\n      <td>Orlando Bloom</td>\n      <td>40000.0</td>\n      <td>309404152.0</td>\n      <td>Action|Adventure|Fantasy</td>\n      <td>...</td>\n      <td>1238.0</td>\n      <td>English</td>\n      <td>USA</td>\n      <td>PG-13</td>\n      <td>300000000.0</td>\n      <td>2007.0</td>\n      <td>5000.0</td>\n      <td>7.1</td>\n      <td>2.35</td>\n      <td>0</td>\n    </tr>\n    <tr>\n      <th>2</th>\n      <td>Color</td>\n      <td>Sam Mendes</td>\n      <td>602.0</td>\n      <td>148.0</td>\n      <td>0.0</td>\n      <td>161.0</td>\n      <td>Rory Kinnear</td>\n      <td>11000.0</td>\n      <td>200074175.0</td>\n      <td>Action|Adventure|Thriller</td>\n      <td>...</td>\n      <td>994.0</td>\n      <td>English</td>\n      <td>UK</td>\n      <td>PG-13</td>\n      <td>245000000.0</td>\n      <td>2015.0</td>\n      <td>393.0</td>\n      <td>6.8</td>\n      <td>2.35</td>\n      <td>85000</td>\n    </tr>\n    <tr>\n      <th>3</th>\n      <td>Color</td>\n      <td>Christopher Nolan</td>\n      <td>813.0</td>\n      <td>164.0</td>\n      <td>22000.0</td>\n      <td>23000.0</td>\n      <td>Christian Bale</td>\n      <td>27000.0</td>\n      <td>448130642.0</td>\n      <td>Action|Thriller</td>\n      <td>...</td>\n      <td>2701.0</td>\n      <td>English</td>\n      <td>USA</td>\n      <td>PG-13</td>\n      <td>250000000.0</td>\n      <td>2012.0</td>\n      <td>23000.0</td>\n      <td>8.5</td>\n      <td>2.35</td>\n      <td>164000</td>\n    </tr>\n    <tr>\n      <th>4</th>\n      <td>NaN</td>\n      <td>Doug Walker</td>\n      <td>NaN</td>\n      <td>NaN</td>\n      <td>131.0</td>\n      <td>NaN</td>\n      <td>Rob Walker</td>\n      <td>131.0</td>\n      <td>NaN</td>\n      <td>Documentary</td>\n      <td>...</td>\n      <td>NaN</td>\n      <td>NaN</td>\n      <td>NaN</td>\n      <td>NaN</td>\n      <td>NaN</td>\n      <td>NaN</td>\n      <td>12.0</td>\n      <td>7.1</td>\n      <td>NaN</td>\n      <td>0</td>\n    </tr>\n  </tbody>\n</table>\n<p>5 rows \u00d7 28 columns</p>\n</div>"
                    },
                    "metadata": {}
                }
            ]
        },
        {
            "metadata": {},
            "cell_type": "code",
            "source": "df = df_data_1\ndf.head(5)",
            "execution_count": 96,
            "outputs": [
                {
                    "output_type": "execute_result",
                    "execution_count": 96,
                    "data": {
                        "text/plain": "   color      director_name  num_critic_for_reviews  duration  \\\n0  Color      James Cameron                   723.0     178.0   \n1  Color     Gore Verbinski                   302.0     169.0   \n2  Color         Sam Mendes                   602.0     148.0   \n3  Color  Christopher Nolan                   813.0     164.0   \n4    NaN        Doug Walker                     NaN       NaN   \n\n   director_facebook_likes  actor_3_facebook_likes      actor_2_name  \\\n0                      0.0                   855.0  Joel David Moore   \n1                    563.0                  1000.0     Orlando Bloom   \n2                      0.0                   161.0      Rory Kinnear   \n3                  22000.0                 23000.0    Christian Bale   \n4                    131.0                     NaN        Rob Walker   \n\n   actor_1_facebook_likes        gross                           genres  ...  \\\n0                  1000.0  760505847.0  Action|Adventure|Fantasy|Sci-Fi  ...   \n1                 40000.0  309404152.0         Action|Adventure|Fantasy  ...   \n2                 11000.0  200074175.0        Action|Adventure|Thriller  ...   \n3                 27000.0  448130642.0                  Action|Thriller  ...   \n4                   131.0          NaN                      Documentary  ...   \n\n  num_user_for_reviews language  country  content_rating       budget  \\\n0               3054.0  English      USA           PG-13  237000000.0   \n1               1238.0  English      USA           PG-13  300000000.0   \n2                994.0  English       UK           PG-13  245000000.0   \n3               2701.0  English      USA           PG-13  250000000.0   \n4                  NaN      NaN      NaN             NaN          NaN   \n\n   title_year actor_2_facebook_likes imdb_score  aspect_ratio  \\\n0      2009.0                  936.0        7.9          1.78   \n1      2007.0                 5000.0        7.1          2.35   \n2      2015.0                  393.0        6.8          2.35   \n3      2012.0                23000.0        8.5          2.35   \n4         NaN                   12.0        7.1           NaN   \n\n  movie_facebook_likes  \n0                33000  \n1                    0  \n2                85000  \n3               164000  \n4                    0  \n\n[5 rows x 28 columns]",
                        "text/html": "<div>\n<style scoped>\n    .dataframe tbody tr th:only-of-type {\n        vertical-align: middle;\n    }\n\n    .dataframe tbody tr th {\n        vertical-align: top;\n    }\n\n    .dataframe thead th {\n        text-align: right;\n    }\n</style>\n<table border=\"1\" class=\"dataframe\">\n  <thead>\n    <tr style=\"text-align: right;\">\n      <th></th>\n      <th>color</th>\n      <th>director_name</th>\n      <th>num_critic_for_reviews</th>\n      <th>duration</th>\n      <th>director_facebook_likes</th>\n      <th>actor_3_facebook_likes</th>\n      <th>actor_2_name</th>\n      <th>actor_1_facebook_likes</th>\n      <th>gross</th>\n      <th>genres</th>\n      <th>...</th>\n      <th>num_user_for_reviews</th>\n      <th>language</th>\n      <th>country</th>\n      <th>content_rating</th>\n      <th>budget</th>\n      <th>title_year</th>\n      <th>actor_2_facebook_likes</th>\n      <th>imdb_score</th>\n      <th>aspect_ratio</th>\n      <th>movie_facebook_likes</th>\n    </tr>\n  </thead>\n  <tbody>\n    <tr>\n      <th>0</th>\n      <td>Color</td>\n      <td>James Cameron</td>\n      <td>723.0</td>\n      <td>178.0</td>\n      <td>0.0</td>\n      <td>855.0</td>\n      <td>Joel David Moore</td>\n      <td>1000.0</td>\n      <td>760505847.0</td>\n      <td>Action|Adventure|Fantasy|Sci-Fi</td>\n      <td>...</td>\n      <td>3054.0</td>\n      <td>English</td>\n      <td>USA</td>\n      <td>PG-13</td>\n      <td>237000000.0</td>\n      <td>2009.0</td>\n      <td>936.0</td>\n      <td>7.9</td>\n      <td>1.78</td>\n      <td>33000</td>\n    </tr>\n    <tr>\n      <th>1</th>\n      <td>Color</td>\n      <td>Gore Verbinski</td>\n      <td>302.0</td>\n      <td>169.0</td>\n      <td>563.0</td>\n      <td>1000.0</td>\n      <td>Orlando Bloom</td>\n      <td>40000.0</td>\n      <td>309404152.0</td>\n      <td>Action|Adventure|Fantasy</td>\n      <td>...</td>\n      <td>1238.0</td>\n      <td>English</td>\n      <td>USA</td>\n      <td>PG-13</td>\n      <td>300000000.0</td>\n      <td>2007.0</td>\n      <td>5000.0</td>\n      <td>7.1</td>\n      <td>2.35</td>\n      <td>0</td>\n    </tr>\n    <tr>\n      <th>2</th>\n      <td>Color</td>\n      <td>Sam Mendes</td>\n      <td>602.0</td>\n      <td>148.0</td>\n      <td>0.0</td>\n      <td>161.0</td>\n      <td>Rory Kinnear</td>\n      <td>11000.0</td>\n      <td>200074175.0</td>\n      <td>Action|Adventure|Thriller</td>\n      <td>...</td>\n      <td>994.0</td>\n      <td>English</td>\n      <td>UK</td>\n      <td>PG-13</td>\n      <td>245000000.0</td>\n      <td>2015.0</td>\n      <td>393.0</td>\n      <td>6.8</td>\n      <td>2.35</td>\n      <td>85000</td>\n    </tr>\n    <tr>\n      <th>3</th>\n      <td>Color</td>\n      <td>Christopher Nolan</td>\n      <td>813.0</td>\n      <td>164.0</td>\n      <td>22000.0</td>\n      <td>23000.0</td>\n      <td>Christian Bale</td>\n      <td>27000.0</td>\n      <td>448130642.0</td>\n      <td>Action|Thriller</td>\n      <td>...</td>\n      <td>2701.0</td>\n      <td>English</td>\n      <td>USA</td>\n      <td>PG-13</td>\n      <td>250000000.0</td>\n      <td>2012.0</td>\n      <td>23000.0</td>\n      <td>8.5</td>\n      <td>2.35</td>\n      <td>164000</td>\n    </tr>\n    <tr>\n      <th>4</th>\n      <td>NaN</td>\n      <td>Doug Walker</td>\n      <td>NaN</td>\n      <td>NaN</td>\n      <td>131.0</td>\n      <td>NaN</td>\n      <td>Rob Walker</td>\n      <td>131.0</td>\n      <td>NaN</td>\n      <td>Documentary</td>\n      <td>...</td>\n      <td>NaN</td>\n      <td>NaN</td>\n      <td>NaN</td>\n      <td>NaN</td>\n      <td>NaN</td>\n      <td>NaN</td>\n      <td>12.0</td>\n      <td>7.1</td>\n      <td>NaN</td>\n      <td>0</td>\n    </tr>\n  </tbody>\n</table>\n<p>5 rows \u00d7 28 columns</p>\n</div>"
                    },
                    "metadata": {}
                }
            ]
        },
        {
            "metadata": {},
            "cell_type": "code",
            "source": "# illustrating the statistics of the dataset\ndf.describe()",
            "execution_count": 97,
            "outputs": [
                {
                    "output_type": "execute_result",
                    "execution_count": 97,
                    "data": {
                        "text/plain": "       num_critic_for_reviews     duration  director_facebook_likes  \\\ncount             4993.000000  5028.000000              4939.000000   \nmean               140.194272   107.201074               686.509212   \nstd                121.601675    25.197441              2813.328607   \nmin                  1.000000     7.000000                 0.000000   \n25%                 50.000000    93.000000                 7.000000   \n50%                110.000000   103.000000                49.000000   \n75%                195.000000   118.000000               194.500000   \nmax                813.000000   511.000000             23000.000000   \n\n       actor_3_facebook_likes  actor_1_facebook_likes         gross  \\\ncount             5020.000000             5036.000000  4.159000e+03   \nmean               645.009761             6560.047061  4.846841e+07   \nstd               1665.041728            15020.759120  6.845299e+07   \nmin                  0.000000                0.000000  1.620000e+02   \n25%                133.000000              614.000000  5.340988e+06   \n50%                371.500000              988.000000  2.551750e+07   \n75%                636.000000            11000.000000  6.230944e+07   \nmax              23000.000000           640000.000000  7.605058e+08   \n\n       num_voted_users  cast_total_facebook_likes  facenumber_in_poster  \\\ncount     5.043000e+03                5043.000000           5030.000000   \nmean      8.366816e+04                9699.063851              1.371173   \nstd       1.384853e+05               18163.799124              2.013576   \nmin       5.000000e+00                   0.000000              0.000000   \n25%       8.593500e+03                1411.000000              0.000000   \n50%       3.435900e+04                3090.000000              1.000000   \n75%       9.630900e+04               13756.500000              2.000000   \nmax       1.689764e+06              656730.000000             43.000000   \n\n       num_user_for_reviews        budget   title_year  \\\ncount           5022.000000  4.551000e+03  4935.000000   \nmean             272.770808  3.975262e+07  2002.470517   \nstd              377.982886  2.061149e+08    12.474599   \nmin                1.000000  2.180000e+02  1916.000000   \n25%               65.000000  6.000000e+06  1999.000000   \n50%              156.000000  2.000000e+07  2005.000000   \n75%              326.000000  4.500000e+07  2011.000000   \nmax             5060.000000  1.221550e+10  2016.000000   \n\n       actor_2_facebook_likes   imdb_score  aspect_ratio  movie_facebook_likes  \ncount             5030.000000  5043.000000   4714.000000           5043.000000  \nmean              1651.754473     6.442138      2.220403           7525.964505  \nstd               4042.438863     1.125116      1.385113          19320.445110  \nmin                  0.000000     1.600000      1.180000              0.000000  \n25%                281.000000     5.800000      1.850000              0.000000  \n50%                595.000000     6.600000      2.350000            166.000000  \n75%                918.000000     7.200000      2.350000           3000.000000  \nmax             137000.000000     9.500000     16.000000         349000.000000  ",
                        "text/html": "<div>\n<style scoped>\n    .dataframe tbody tr th:only-of-type {\n        vertical-align: middle;\n    }\n\n    .dataframe tbody tr th {\n        vertical-align: top;\n    }\n\n    .dataframe thead th {\n        text-align: right;\n    }\n</style>\n<table border=\"1\" class=\"dataframe\">\n  <thead>\n    <tr style=\"text-align: right;\">\n      <th></th>\n      <th>num_critic_for_reviews</th>\n      <th>duration</th>\n      <th>director_facebook_likes</th>\n      <th>actor_3_facebook_likes</th>\n      <th>actor_1_facebook_likes</th>\n      <th>gross</th>\n      <th>num_voted_users</th>\n      <th>cast_total_facebook_likes</th>\n      <th>facenumber_in_poster</th>\n      <th>num_user_for_reviews</th>\n      <th>budget</th>\n      <th>title_year</th>\n      <th>actor_2_facebook_likes</th>\n      <th>imdb_score</th>\n      <th>aspect_ratio</th>\n      <th>movie_facebook_likes</th>\n    </tr>\n  </thead>\n  <tbody>\n    <tr>\n      <th>count</th>\n      <td>4993.000000</td>\n      <td>5028.000000</td>\n      <td>4939.000000</td>\n      <td>5020.000000</td>\n      <td>5036.000000</td>\n      <td>4.159000e+03</td>\n      <td>5.043000e+03</td>\n      <td>5043.000000</td>\n      <td>5030.000000</td>\n      <td>5022.000000</td>\n      <td>4.551000e+03</td>\n      <td>4935.000000</td>\n      <td>5030.000000</td>\n      <td>5043.000000</td>\n      <td>4714.000000</td>\n      <td>5043.000000</td>\n    </tr>\n    <tr>\n      <th>mean</th>\n      <td>140.194272</td>\n      <td>107.201074</td>\n      <td>686.509212</td>\n      <td>645.009761</td>\n      <td>6560.047061</td>\n      <td>4.846841e+07</td>\n      <td>8.366816e+04</td>\n      <td>9699.063851</td>\n      <td>1.371173</td>\n      <td>272.770808</td>\n      <td>3.975262e+07</td>\n      <td>2002.470517</td>\n      <td>1651.754473</td>\n      <td>6.442138</td>\n      <td>2.220403</td>\n      <td>7525.964505</td>\n    </tr>\n    <tr>\n      <th>std</th>\n      <td>121.601675</td>\n      <td>25.197441</td>\n      <td>2813.328607</td>\n      <td>1665.041728</td>\n      <td>15020.759120</td>\n      <td>6.845299e+07</td>\n      <td>1.384853e+05</td>\n      <td>18163.799124</td>\n      <td>2.013576</td>\n      <td>377.982886</td>\n      <td>2.061149e+08</td>\n      <td>12.474599</td>\n      <td>4042.438863</td>\n      <td>1.125116</td>\n      <td>1.385113</td>\n      <td>19320.445110</td>\n    </tr>\n    <tr>\n      <th>min</th>\n      <td>1.000000</td>\n      <td>7.000000</td>\n      <td>0.000000</td>\n      <td>0.000000</td>\n      <td>0.000000</td>\n      <td>1.620000e+02</td>\n      <td>5.000000e+00</td>\n      <td>0.000000</td>\n      <td>0.000000</td>\n      <td>1.000000</td>\n      <td>2.180000e+02</td>\n      <td>1916.000000</td>\n      <td>0.000000</td>\n      <td>1.600000</td>\n      <td>1.180000</td>\n      <td>0.000000</td>\n    </tr>\n    <tr>\n      <th>25%</th>\n      <td>50.000000</td>\n      <td>93.000000</td>\n      <td>7.000000</td>\n      <td>133.000000</td>\n      <td>614.000000</td>\n      <td>5.340988e+06</td>\n      <td>8.593500e+03</td>\n      <td>1411.000000</td>\n      <td>0.000000</td>\n      <td>65.000000</td>\n      <td>6.000000e+06</td>\n      <td>1999.000000</td>\n      <td>281.000000</td>\n      <td>5.800000</td>\n      <td>1.850000</td>\n      <td>0.000000</td>\n    </tr>\n    <tr>\n      <th>50%</th>\n      <td>110.000000</td>\n      <td>103.000000</td>\n      <td>49.000000</td>\n      <td>371.500000</td>\n      <td>988.000000</td>\n      <td>2.551750e+07</td>\n      <td>3.435900e+04</td>\n      <td>3090.000000</td>\n      <td>1.000000</td>\n      <td>156.000000</td>\n      <td>2.000000e+07</td>\n      <td>2005.000000</td>\n      <td>595.000000</td>\n      <td>6.600000</td>\n      <td>2.350000</td>\n      <td>166.000000</td>\n    </tr>\n    <tr>\n      <th>75%</th>\n      <td>195.000000</td>\n      <td>118.000000</td>\n      <td>194.500000</td>\n      <td>636.000000</td>\n      <td>11000.000000</td>\n      <td>6.230944e+07</td>\n      <td>9.630900e+04</td>\n      <td>13756.500000</td>\n      <td>2.000000</td>\n      <td>326.000000</td>\n      <td>4.500000e+07</td>\n      <td>2011.000000</td>\n      <td>918.000000</td>\n      <td>7.200000</td>\n      <td>2.350000</td>\n      <td>3000.000000</td>\n    </tr>\n    <tr>\n      <th>max</th>\n      <td>813.000000</td>\n      <td>511.000000</td>\n      <td>23000.000000</td>\n      <td>23000.000000</td>\n      <td>640000.000000</td>\n      <td>7.605058e+08</td>\n      <td>1.689764e+06</td>\n      <td>656730.000000</td>\n      <td>43.000000</td>\n      <td>5060.000000</td>\n      <td>1.221550e+10</td>\n      <td>2016.000000</td>\n      <td>137000.000000</td>\n      <td>9.500000</td>\n      <td>16.000000</td>\n      <td>349000.000000</td>\n    </tr>\n  </tbody>\n</table>\n</div>"
                    },
                    "metadata": {}
                }
            ]
        },
        {
            "metadata": {},
            "cell_type": "code",
            "source": "df.info()\ndf.columns",
            "execution_count": 98,
            "outputs": [
                {
                    "output_type": "stream",
                    "text": "<class 'pandas.core.frame.DataFrame'>\nRangeIndex: 5043 entries, 0 to 5042\nData columns (total 28 columns):\ncolor                        5024 non-null object\ndirector_name                4939 non-null object\nnum_critic_for_reviews       4993 non-null float64\nduration                     5028 non-null float64\ndirector_facebook_likes      4939 non-null float64\nactor_3_facebook_likes       5020 non-null float64\nactor_2_name                 5030 non-null object\nactor_1_facebook_likes       5036 non-null float64\ngross                        4159 non-null float64\ngenres                       5043 non-null object\nactor_1_name                 5036 non-null object\nmovie_title                  5043 non-null object\nnum_voted_users              5043 non-null int64\ncast_total_facebook_likes    5043 non-null int64\nactor_3_name                 5020 non-null object\nfacenumber_in_poster         5030 non-null float64\nplot_keywords                4890 non-null object\nmovie_imdb_link              5043 non-null object\nnum_user_for_reviews         5022 non-null float64\nlanguage                     5031 non-null object\ncountry                      5038 non-null object\ncontent_rating               4740 non-null object\nbudget                       4551 non-null float64\ntitle_year                   4935 non-null float64\nactor_2_facebook_likes       5030 non-null float64\nimdb_score                   5043 non-null float64\naspect_ratio                 4714 non-null float64\nmovie_facebook_likes         5043 non-null int64\ndtypes: float64(13), int64(3), object(12)\nmemory usage: 1.1+ MB\n",
                    "name": "stdout"
                },
                {
                    "output_type": "execute_result",
                    "execution_count": 98,
                    "data": {
                        "text/plain": "Index(['color', 'director_name', 'num_critic_for_reviews', 'duration',\n       'director_facebook_likes', 'actor_3_facebook_likes', 'actor_2_name',\n       'actor_1_facebook_likes', 'gross', 'genres', 'actor_1_name',\n       'movie_title', 'num_voted_users', 'cast_total_facebook_likes',\n       'actor_3_name', 'facenumber_in_poster', 'plot_keywords',\n       'movie_imdb_link', 'num_user_for_reviews', 'language', 'country',\n       'content_rating', 'budget', 'title_year', 'actor_2_facebook_likes',\n       'imdb_score', 'aspect_ratio', 'movie_facebook_likes'],\n      dtype='object')"
                    },
                    "metadata": {}
                }
            ]
        },
        {
            "metadata": {},
            "cell_type": "markdown",
            "source": "### Our prediction variable is the \"imdb_score\" variable. Lets analyze the values of the label"
        },
        {
            "metadata": {},
            "cell_type": "code",
            "source": "df['imdb_score'].value_counts()\n",
            "execution_count": 99,
            "outputs": [
                {
                    "output_type": "execute_result",
                    "execution_count": 99,
                    "data": {
                        "text/plain": "6.7    223\n6.6    201\n7.2    195\n6.5    186\n6.4    185\n7.3    184\n7.0    184\n7.1    181\n6.8    181\n6.1    179\n6.3    176\n6.2    175\n6.9    174\n7.4    147\n5.9    144\n7.5    140\n6.0    131\n7.6    124\n5.8    124\n5.7    117\n7.7    114\n5.6    112\n7.8    106\n5.4    104\n5.5     98\n5.3     92\n8.0     75\n7.9     75\n5.1     71\n8.1     69\n      ... \n3.5     15\n3.9     14\n3.8     14\n3.6     14\n8.7     13\n3.4     12\n2.8      9\n3.7      9\n3.1      8\n8.8      7\n3.2      7\n2.7      6\n3.0      5\n8.9      5\n2.9      4\n2.2      3\n2.1      3\n1.9      3\n9.0      3\n9.1      3\n2.3      3\n2.5      2\n2.0      2\n2.4      2\n2.6      2\n9.3      1\n1.7      1\n9.5      1\n9.2      1\n1.6      1\nName: imdb_score, Length: 78, dtype: int64"
                    },
                    "metadata": {}
                }
            ]
        },
        {
            "metadata": {},
            "cell_type": "markdown",
            "source": "### we see that our prediction variable \"imdb_score\" has 78 distinct values. Hence to reduce the possible predictions to 9,we have rounded off the float variable into integer."
        },
        {
            "metadata": {},
            "cell_type": "code",
            "source": "df['imdb_score'] = df['imdb_score'].apply(np.int64)",
            "execution_count": 100,
            "outputs": []
        },
        {
            "metadata": {},
            "cell_type": "code",
            "source": "df['imdb_score'].value_counts()\n",
            "execution_count": 101,
            "outputs": [
                {
                    "output_type": "execute_result",
                    "execution_count": 101,
                    "data": {
                        "text/plain": "6    1811\n7    1450\n5     972\n4     326\n8     319\n3     115\n2      36\n9       9\n1       5\nName: imdb_score, dtype: int64"
                    },
                    "metadata": {}
                }
            ]
        },
        {
            "metadata": {},
            "cell_type": "markdown",
            "source": "### Data Pre-processing and Feature selection "
        },
        {
            "metadata": {},
            "cell_type": "code",
            "source": "# droping all the null values\ndf = df.dropna()",
            "execution_count": 102,
            "outputs": []
        },
        {
            "metadata": {},
            "cell_type": "code",
            "source": "features = df[['director_facebook_likes','cast_total_facebook_likes','actor_1_facebook_likes','actor_2_facebook_likes','actor_3_facebook_likes','movie_facebook_likes','facenumber_in_poster','gross','budget']]\nfeatures.head()\nfeatures.count()",
            "execution_count": 103,
            "outputs": [
                {
                    "output_type": "execute_result",
                    "execution_count": 103,
                    "data": {
                        "text/plain": "director_facebook_likes      3756\ncast_total_facebook_likes    3756\nactor_1_facebook_likes       3756\nactor_2_facebook_likes       3756\nactor_3_facebook_likes       3756\nmovie_facebook_likes         3756\nfacenumber_in_poster         3756\ngross                        3756\nbudget                       3756\ndtype: int64"
                    },
                    "metadata": {}
                }
            ]
        },
        {
            "metadata": {},
            "cell_type": "markdown",
            "source": "### droping the nan values from the features dataframe"
        },
        {
            "metadata": {},
            "cell_type": "code",
            "source": "features = features.dropna()\nfeatures.count()",
            "execution_count": 104,
            "outputs": [
                {
                    "output_type": "execute_result",
                    "execution_count": 104,
                    "data": {
                        "text/plain": "director_facebook_likes      3756\ncast_total_facebook_likes    3756\nactor_1_facebook_likes       3756\nactor_2_facebook_likes       3756\nactor_3_facebook_likes       3756\nmovie_facebook_likes         3756\nfacenumber_in_poster         3756\ngross                        3756\nbudget                       3756\ndtype: int64"
                    },
                    "metadata": {}
                }
            ]
        },
        {
            "metadata": {},
            "cell_type": "code",
            "source": "label = df[['imdb_score']]\nlabel.head()\nlabel.count()",
            "execution_count": 105,
            "outputs": [
                {
                    "output_type": "execute_result",
                    "execution_count": 105,
                    "data": {
                        "text/plain": "imdb_score    3756\ndtype: int64"
                    },
                    "metadata": {}
                }
            ]
        },
        {
            "metadata": {},
            "cell_type": "code",
            "source": "label.dropna()\nlabel.count()",
            "execution_count": 106,
            "outputs": [
                {
                    "output_type": "execute_result",
                    "execution_count": 106,
                    "data": {
                        "text/plain": "imdb_score    3756\ndtype: int64"
                    },
                    "metadata": {}
                }
            ]
        },
        {
            "metadata": {},
            "cell_type": "markdown",
            "source": "### Splitting the dataset into train and test data"
        },
        {
            "metadata": {},
            "cell_type": "code",
            "source": "from sklearn.model_selection import train_test_split\ndata_train, data_test, labels_train, labels_test = train_test_split(features, label, test_size=0.20, random_state=42)\n",
            "execution_count": 107,
            "outputs": []
        },
        {
            "metadata": {},
            "cell_type": "markdown",
            "source": "### lets define X as feature set and y as label set"
        },
        {
            "metadata": {},
            "cell_type": "code",
            "source": "X = data_train\ny = labels_train",
            "execution_count": 108,
            "outputs": []
        },
        {
            "metadata": {},
            "cell_type": "markdown",
            "source": "### Normalize data"
        },
        {
            "metadata": {},
            "cell_type": "code",
            "source": "X= preprocessing.StandardScaler().fit(X).transform(X)\nX[0:5]",
            "execution_count": 109,
            "outputs": [
                {
                    "output_type": "stream",
                    "text": "/opt/conda/envs/Python36/lib/python3.6/site-packages/sklearn/preprocessing/data.py:645: DataConversionWarning: Data with input dtype int64, float64 were all converted to float64 by StandardScaler.\n  return self.partial_fit(X, y)\n/opt/conda/envs/Python36/lib/python3.6/site-packages/ipykernel/__main__.py:1: DataConversionWarning: Data with input dtype int64, float64 were all converted to float64 by StandardScaler.\n  if __name__ == '__main__':\n",
                    "name": "stderr"
                },
                {
                    "output_type": "execute_result",
                    "execution_count": 109,
                    "data": {
                        "text/plain": "array([[-0.25111333, -0.24617278, -0.34301406, -0.23801553,  0.04161585,\n         0.40441232, -0.65971339,  5.42338812, -0.00872863],\n       [-0.26047711, -0.47479967, -0.42465901, -0.31478479, -0.28125747,\n        -0.45198568,  3.16242554, -0.4597647 , -0.12796699],\n       [-0.18222263,  0.11053907,  0.26356058, -0.21350097, -0.2875677 ,\n         0.10215421,  0.29582134, -0.75311157, -0.17168772],\n       [-0.26047711, -0.48073739, -0.4062798 , -0.39348942, -0.32753247,\n         0.70667044, -0.65971339, -0.557017  , -0.12796699],\n       [-0.26047711,  0.54638715,  0.50619044,  0.6466589 ,  0.04687438,\n         0.60591774,  0.29582134,  3.83037854,  0.18205274]])"
                    },
                    "metadata": {}
                }
            ]
        },
        {
            "metadata": {},
            "cell_type": "markdown",
            "source": "## Classification"
        },
        {
            "metadata": {},
            "cell_type": "markdown",
            "source": "### K Nearest Neighbor(KNN)\u00b6"
        },
        {
            "metadata": {},
            "cell_type": "code",
            "source": "from sklearn.neighbors import KNeighborsClassifier\nfrom sklearn.model_selection import train_test_split\nfrom sklearn.metrics import jaccard_similarity_score, log_loss, f1_score\nfrom sklearn import metrics\n",
            "execution_count": 110,
            "outputs": []
        },
        {
            "metadata": {},
            "cell_type": "code",
            "source": "#Train Model and Predict  \nX_train, X_valid, y_train, y_valid = train_test_split(X, y, test_size=0.2, random_state=6)\nKNN = KNeighborsClassifier(n_neighbors = 4).fit(X_train,y_train)\n\nprint(\"Train set Accuracy: \", metrics.accuracy_score(y_train, KNN.predict(X_train)))\nprint(\"Test set Accuracy: \", metrics.accuracy_score(y_valid, KNN.predict(X_valid)))\nKNN\n",
            "execution_count": 111,
            "outputs": [
                {
                    "output_type": "stream",
                    "text": "Train set Accuracy:  0.5722014148980441\nTest set Accuracy:  0.3211314475873544\n",
                    "name": "stdout"
                },
                {
                    "output_type": "stream",
                    "text": "/opt/conda/envs/Python36/lib/python3.6/site-packages/ipykernel/__main__.py:3: DataConversionWarning: A column-vector y was passed when a 1d array was expected. Please change the shape of y to (n_samples, ), for example using ravel().\n  app.launch_new_instance()\n",
                    "name": "stderr"
                },
                {
                    "output_type": "execute_result",
                    "execution_count": 111,
                    "data": {
                        "text/plain": "KNeighborsClassifier(algorithm='auto', leaf_size=30, metric='minkowski',\n           metric_params=None, n_jobs=None, n_neighbors=4, p=2,\n           weights='uniform')"
                    },
                    "metadata": {}
                }
            ]
        },
        {
            "metadata": {},
            "cell_type": "markdown",
            "source": "### Decision tree"
        },
        {
            "metadata": {},
            "cell_type": "code",
            "source": "from sklearn import tree\n",
            "execution_count": 112,
            "outputs": []
        },
        {
            "metadata": {},
            "cell_type": "code",
            "source": "DT = tree.DecisionTreeClassifier(criterion=\"entropy\", max_depth = 4)\nDT = DT.fit(X, y)",
            "execution_count": 113,
            "outputs": []
        },
        {
            "metadata": {},
            "cell_type": "code",
            "source": "print(\"DecisionTrees's Accuracy: \", metrics.accuracy_score(y_valid, DT.predict(X_valid)))",
            "execution_count": 114,
            "outputs": [
                {
                    "output_type": "stream",
                    "text": "DecisionTrees's Accuracy:  0.46589018302828616\n",
                    "name": "stdout"
                }
            ]
        },
        {
            "metadata": {},
            "cell_type": "markdown",
            "source": "### Support Vector Machine"
        },
        {
            "metadata": {},
            "cell_type": "code",
            "source": "from sklearn.svm import SVC\n",
            "execution_count": 115,
            "outputs": []
        },
        {
            "metadata": {},
            "cell_type": "code",
            "source": "svm = SVC(gamma='auto')\nsvm = svm.fit(X, y)\n",
            "execution_count": 116,
            "outputs": [
                {
                    "output_type": "stream",
                    "text": "/opt/conda/envs/Python36/lib/python3.6/site-packages/sklearn/utils/validation.py:761: DataConversionWarning: A column-vector y was passed when a 1d array was expected. Please change the shape of y to (n_samples, ), for example using ravel().\n  y = column_or_1d(y, warn=True)\n",
                    "name": "stderr"
                }
            ]
        },
        {
            "metadata": {},
            "cell_type": "code",
            "source": "print(\"Train set jaccard similarity score: \", jaccard_similarity_score(y_train, KNN.predict(X_train)))\nprint(\"Valid set jaccard similarity score: \", jaccard_similarity_score(y_valid, KNN.predict(X_valid)))\nprint(\"Train set f1 score: \", f1_score(y_train, KNN.predict(X_train), average='weighted'))\nprint(\"Valid set f1 score: \", f1_score(y_valid, KNN.predict(X_valid), average='weighted'))",
            "execution_count": 117,
            "outputs": [
                {
                    "output_type": "stream",
                    "text": "Train set jaccard similarity score:  0.5722014148980441\nValid set jaccard similarity score:  0.3211314475873544\nTrain set f1 score:  0.5693161229475167\nValid set f1 score:  0.32303790244455444\n",
                    "name": "stdout"
                },
                {
                    "output_type": "stream",
                    "text": "/opt/conda/envs/Python36/lib/python3.6/site-packages/sklearn/metrics/classification.py:1143: UndefinedMetricWarning: F-score is ill-defined and being set to 0.0 in labels with no predicted samples.\n  'precision', 'predicted', average, warn_for)\n/opt/conda/envs/Python36/lib/python3.6/site-packages/sklearn/metrics/classification.py:1143: UndefinedMetricWarning: F-score is ill-defined and being set to 0.0 in labels with no predicted samples.\n  'precision', 'predicted', average, warn_for)\n",
                    "name": "stderr"
                }
            ]
        },
        {
            "metadata": {},
            "cell_type": "markdown",
            "source": "### Evaluation "
        },
        {
            "metadata": {},
            "cell_type": "code",
            "source": "X_test = preprocessing.StandardScaler().fit(data_test).transform(data_test)\ny_test = labels_test\n",
            "execution_count": 118,
            "outputs": [
                {
                    "output_type": "stream",
                    "text": "/opt/conda/envs/Python36/lib/python3.6/site-packages/sklearn/preprocessing/data.py:645: DataConversionWarning: Data with input dtype int64, float64 were all converted to float64 by StandardScaler.\n  return self.partial_fit(X, y)\n/opt/conda/envs/Python36/lib/python3.6/site-packages/ipykernel/__main__.py:1: DataConversionWarning: Data with input dtype int64, float64 were all converted to float64 by StandardScaler.\n  if __name__ == '__main__':\n",
                    "name": "stderr"
                }
            ]
        },
        {
            "metadata": {},
            "cell_type": "code",
            "source": "KNN_pred = KNN.predict(X_test)\nDT_pred = DT.predict(X_test)\nsvm_pred = svm.predict(X_test)",
            "execution_count": 119,
            "outputs": []
        },
        {
            "metadata": {},
            "cell_type": "code",
            "source": "jaccard_score = [jaccard_similarity_score(y_test, KNN_pred),\n                 jaccard_similarity_score(y_test, DT_pred),\n                 jaccard_similarity_score(y_test, svm_pred)]\n\n\nF1_score = [f1_score(y_test, KNN_pred, average='weighted'),\n            f1_score(y_test, DT_pred, average='weighted'),\n            f1_score(y_test, svm_pred, average='weighted')]",
            "execution_count": 120,
            "outputs": [
                {
                    "output_type": "stream",
                    "text": "/opt/conda/envs/Python36/lib/python3.6/site-packages/sklearn/metrics/classification.py:1143: UndefinedMetricWarning: F-score is ill-defined and being set to 0.0 in labels with no predicted samples.\n  'precision', 'predicted', average, warn_for)\n",
                    "name": "stderr"
                }
            ]
        },
        {
            "metadata": {},
            "cell_type": "markdown",
            "source": "### Report"
        },
        {
            "metadata": {},
            "cell_type": "code",
            "source": "\ndf = {'Algorithm': ['KNN', 'Decistion Tree', 'SVM'], \\\n     'Jaccard': jaccard_score, 'F1-score': F1_score}\ndf_final = pd.DataFrame(data=df, columns=['Algorithm', 'Jaccard', 'F1-score'], index=None)\ndf_final",
            "execution_count": 121,
            "outputs": [
                {
                    "output_type": "execute_result",
                    "execution_count": 121,
                    "data": {
                        "text/plain": "        Algorithm   Jaccard  F1-score\n0             KNN  0.319149  0.311377\n1  Decistion Tree  0.373670  0.343138\n2             SVM  0.414894  0.314273",
                        "text/html": "<div>\n<style scoped>\n    .dataframe tbody tr th:only-of-type {\n        vertical-align: middle;\n    }\n\n    .dataframe tbody tr th {\n        vertical-align: top;\n    }\n\n    .dataframe thead th {\n        text-align: right;\n    }\n</style>\n<table border=\"1\" class=\"dataframe\">\n  <thead>\n    <tr style=\"text-align: right;\">\n      <th></th>\n      <th>Algorithm</th>\n      <th>Jaccard</th>\n      <th>F1-score</th>\n    </tr>\n  </thead>\n  <tbody>\n    <tr>\n      <th>0</th>\n      <td>KNN</td>\n      <td>0.319149</td>\n      <td>0.311377</td>\n    </tr>\n    <tr>\n      <th>1</th>\n      <td>Decistion Tree</td>\n      <td>0.373670</td>\n      <td>0.343138</td>\n    </tr>\n    <tr>\n      <th>2</th>\n      <td>SVM</td>\n      <td>0.414894</td>\n      <td>0.314273</td>\n    </tr>\n  </tbody>\n</table>\n</div>"
                    },
                    "metadata": {}
                }
            ]
        },
        {
            "metadata": {},
            "cell_type": "code",
            "source": "",
            "execution_count": null,
            "outputs": []
        }
    ],
    "metadata": {
        "kernelspec": {
            "name": "python3",
            "display_name": "Python 3.6",
            "language": "python"
        },
        "language_info": {
            "name": "python",
            "version": "3.6.8",
            "mimetype": "text/x-python",
            "codemirror_mode": {
                "name": "ipython",
                "version": 3
            },
            "pygments_lexer": "ipython3",
            "nbconvert_exporter": "python",
            "file_extension": ".py"
        }
    },
    "nbformat": 4,
    "nbformat_minor": 1
}